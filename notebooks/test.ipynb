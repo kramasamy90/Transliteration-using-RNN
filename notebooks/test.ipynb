{
 "cells": [
  {
   "cell_type": "code",
   "execution_count": 1,
   "metadata": {},
   "outputs": [],
   "source": [
    "import os\n",
    "import sys\n",
    "import pickle\n",
    "\n",
    "import numpy as np\n",
    "import matplotlib.pyplot as plt\n",
    "\n",
    "import torch\n",
    "import torch.nn as nn\n",
    "import torch.functional as F\n",
    "from torch.utils.data import Dataset, DataLoader\n",
    "\n",
    "sys.path.append(os.path.join(sys.path[0], '../src'))\n",
    "import data\n",
    "import utils\n",
    "import model\n",
    "from model import EncoderRNN\n",
    "from model import DecoderRNN\n",
    "\n",
    "%load_ext autoreload\n",
    "%autoreload 2"
   ]
  },
  {
   "attachments": {},
   "cell_type": "markdown",
   "metadata": {},
   "source": [
    "## Load and process training data"
   ]
  },
  {
   "cell_type": "code",
   "execution_count": 2,
   "metadata": {},
   "outputs": [
    {
     "data": {
      "text/plain": [
       "['dataset.pkl', 'tam_test.csv', 'tam_train.csv', 'tam_valid.csv']"
      ]
     },
     "execution_count": 2,
     "metadata": {},
     "output_type": "execute_result"
    }
   ],
   "source": [
    "# Change to directory containing English to Tamil transliteration data.\n",
    "DATA_DIR = \"../data/aksharantar_sampled/tam/\"\n",
    "os.chdir(DATA_DIR)\n",
    "os.listdir()"
   ]
  },
  {
   "attachments": {},
   "cell_type": "markdown",
   "metadata": {},
   "source": [
    "The class WordDataset reads and stores words in onehot representation."
   ]
  },
  {
   "cell_type": "code",
   "execution_count": 3,
   "metadata": {},
   "outputs": [],
   "source": [
    "# dataset = data.WordDataset() # By default reads 'tam_train.csv'.\n",
    "# with open('dataset.pkl', 'wb') as file:\n",
    "    # pickle.dump(dataset, file)"
   ]
  },
  {
   "cell_type": "code",
   "execution_count": 4,
   "metadata": {},
   "outputs": [],
   "source": [
    "with open('dataset.pkl', 'rb') as file:\n",
    "    dataset = pickle.load(file)"
   ]
  },
  {
   "attachments": {},
   "cell_type": "markdown",
   "metadata": {},
   "source": [
    "The above object `dataset[i]` returns i-th data point: a word-pair in one-hot represenation. "
   ]
  },
  {
   "cell_type": "code",
   "execution_count": 5,
   "metadata": {},
   "outputs": [
    {
     "name": "stdout",
     "output_type": "stream",
     "text": [
      "torch.Size([50, 128])\n",
      "torch.Size([50, 128])\n"
     ]
    }
   ],
   "source": [
    "x, y = dataset[0]\n",
    "print(x.shape)\n",
    "print(y.shape)"
   ]
  },
  {
   "cell_type": "code",
   "execution_count": 6,
   "metadata": {},
   "outputs": [
    {
     "data": {
      "text/plain": [
       "'thottacharya'"
      ]
     },
     "execution_count": 6,
     "metadata": {},
     "output_type": "execute_result"
    }
   ],
   "source": [
    "dataset.decode_eng_word(x)"
   ]
  },
  {
   "cell_type": "code",
   "execution_count": 7,
   "metadata": {},
   "outputs": [
    {
     "data": {
      "text/plain": [
       "'தொட்டாச்சார்ய'"
      ]
     },
     "execution_count": 7,
     "metadata": {},
     "output_type": "execute_result"
    }
   ],
   "source": [
    "dataset.decode_tam_word(y)"
   ]
  },
  {
   "attachments": {},
   "cell_type": "markdown",
   "metadata": {},
   "source": [
    "### Sampling data"
   ]
  },
  {
   "cell_type": "code",
   "execution_count": 8,
   "metadata": {},
   "outputs": [
    {
     "data": {
      "text/plain": [
       "[tensor([[[0, 0, 0,  ..., 0, 0, 0],\n",
       "          [0, 0, 0,  ..., 0, 0, 0],\n",
       "          [0, 0, 0,  ..., 0, 0, 0],\n",
       "          ...,\n",
       "          [1, 0, 0,  ..., 0, 0, 0],\n",
       "          [1, 0, 0,  ..., 0, 0, 0],\n",
       "          [1, 0, 0,  ..., 0, 0, 0]]], dtype=torch.int32),\n",
       " tensor([[[0, 0, 0,  ..., 0, 0, 0],\n",
       "          [0, 0, 0,  ..., 0, 0, 0],\n",
       "          [0, 0, 0,  ..., 0, 0, 0],\n",
       "          ...,\n",
       "          [1, 0, 0,  ..., 0, 0, 0],\n",
       "          [1, 0, 0,  ..., 0, 0, 0],\n",
       "          [1, 0, 0,  ..., 0, 0, 0]]], dtype=torch.int32)]"
      ]
     },
     "execution_count": 8,
     "metadata": {},
     "output_type": "execute_result"
    }
   ],
   "source": [
    "train_dataloader = DataLoader(dataset, batch_size=1, shuffle=True)\n",
    "test_dataloader = DataLoader(dataset, batch_size=1, shuffle=True)\n",
    "next(iter(train_dataloader))"
   ]
  },
  {
   "attachments": {},
   "cell_type": "markdown",
   "metadata": {},
   "source": [
    "## Test Encoder"
   ]
  },
  {
   "cell_type": "code",
   "execution_count": 9,
   "metadata": {},
   "outputs": [],
   "source": [
    "from model import EncoderRNN\n",
    "encoder = EncoderRNN(cell_type='gru')\n",
    "output, hidden = encoder.forward(x)"
   ]
  },
  {
   "cell_type": "code",
   "execution_count": 10,
   "metadata": {},
   "outputs": [],
   "source": [
    "out = torch.sum(output)\n",
    "out.backward()"
   ]
  },
  {
   "cell_type": "code",
   "execution_count": 11,
   "metadata": {},
   "outputs": [
    {
     "name": "stdout",
     "output_type": "stream",
     "text": [
      "tensor([[0.4285, 0.6735, 0.3540,  ..., 0.5020, 0.2634, 1.4263],\n",
      "        [0.8637, 1.2613, 0.1914,  ..., 0.4129, 0.4577, 0.0513],\n",
      "        [0.5592, 0.5802, 0.5884,  ..., 0.0262, 0.3747, 0.9818],\n",
      "        ...,\n",
      "        [0.0000, 0.0000, 0.0000,  ..., 0.0000, 0.0000, 0.0000],\n",
      "        [0.0000, 0.0000, 0.0000,  ..., 0.0000, 0.0000, 0.0000],\n",
      "        [0.0000, 0.0000, 0.0000,  ..., 0.0000, 0.0000, 0.0000]])\n",
      "tensor([[ 5.4498e-01, -6.6377e-02,  4.4507e-01,  ..., -4.7620e-02,\n",
      "         -5.4587e-01, -3.2954e-01],\n",
      "        [ 1.4870e-01, -1.9425e-01, -6.9638e-01,  ..., -6.5899e-02,\n",
      "          2.5672e-01,  2.7203e-01],\n",
      "        [ 6.4079e-02, -1.4422e-01, -2.1869e-02,  ...,  1.6980e-02,\n",
      "         -2.8359e-03,  1.3072e-01],\n",
      "        ...,\n",
      "        [-9.9304e+00,  1.4111e+00,  1.0147e+01,  ...,  6.0287e+00,\n",
      "          5.3456e+00, -9.0902e+00],\n",
      "        [ 9.0642e-01, -1.7048e+00,  1.5344e+01,  ..., -5.6512e+00,\n",
      "          5.4690e+00, -1.7166e+01],\n",
      "        [-4.6495e+00,  3.5409e+00,  7.8673e+00,  ...,  6.5576e-01,\n",
      "          6.9397e-01, -1.0217e+01]])\n",
      "tensor([[ 1.1178e-01,  2.7191e-01,  4.8226e-01, -2.1700e-01,  2.1541e-01,\n",
      "         -1.0906e-01,  1.1488e-01, -9.2920e-02, -1.3424e-01, -1.2973e-01,\n",
      "          6.4084e-03,  5.4148e-02, -1.7488e-01,  1.5358e-01,  2.3714e-01,\n",
      "          1.4716e-01],\n",
      "        [ 2.3283e-03,  5.0041e-02, -1.6264e-01, -2.6473e-01, -2.5749e-01,\n",
      "         -4.7189e-01,  3.1895e-01, -2.5741e-01,  1.5401e-01,  6.2441e-02,\n",
      "          2.0434e-01, -3.7397e-01, -1.1519e-02, -4.4390e-01,  2.3137e-03,\n",
      "         -3.0229e-01],\n",
      "        [ 2.1632e-01,  2.8992e-01,  8.3667e-02, -1.9423e-01, -1.9218e-01,\n",
      "         -3.2335e-02,  4.2869e-03,  9.1366e-02,  5.6921e-02, -3.4378e-02,\n",
      "          3.7847e-02, -2.3102e-01,  7.3265e-02, -1.3740e-01,  8.3368e-03,\n",
      "         -3.7254e-01],\n",
      "        [ 6.5493e-02,  3.9158e-02,  6.1158e-02, -1.1575e-01,  1.5926e-02,\n",
      "          1.6546e-01,  7.2211e-02, -6.3494e-02, -4.2375e-02,  2.0057e-01,\n",
      "         -2.7584e-02,  3.0239e-02, -5.1469e-03,  3.0440e-01, -1.0596e-03,\n",
      "         -1.3254e-01],\n",
      "        [-1.5403e-01, -4.6731e-01, -3.4153e-01,  6.6094e-01,  2.9611e-02,\n",
      "          4.6643e-01,  1.0540e-01,  3.8268e-02,  5.3377e-02,  3.5692e-02,\n",
      "         -3.4383e-01,  1.9956e-01, -1.2554e-01,  3.9557e-01, -2.0117e-01,\n",
      "          3.0072e-01],\n",
      "        [-2.7163e-01, -5.5818e-02, -1.6389e-01,  3.3209e-01,  2.2064e-01,\n",
      "          2.7566e-01, -1.4214e-01, -6.9452e-03,  2.2501e-01, -6.0815e-02,\n",
      "         -2.7306e-01,  4.5091e-01,  2.2432e-01,  2.9081e-01, -1.6659e-02,\n",
      "          1.6429e-01],\n",
      "        [-2.8036e-01, -4.4801e-01, -1.4388e-01,  1.0207e-01,  3.1243e-01,\n",
      "          2.1096e-01,  2.0793e-01, -1.7432e-01,  1.1558e-03,  2.2743e-01,\n",
      "         -3.8802e-02,  2.7911e-01, -1.7463e-01,  4.4221e-01,  5.0330e-02,\n",
      "          3.1638e-01],\n",
      "        [-1.3276e-01, -2.5875e-02, -1.2204e-02, -3.5652e-02,  1.4042e-01,\n",
      "         -1.0646e-01, -1.8143e-01, -7.8485e-03, -7.6511e-02,  7.3737e-02,\n",
      "          6.3713e-02,  1.6888e-01,  6.9588e-02,  6.5077e-02, -2.3326e-02,\n",
      "          1.9207e-01],\n",
      "        [-1.2235e-01,  2.4880e-01,  8.3223e-02, -1.2419e-01,  1.8802e-01,\n",
      "          1.8452e-01,  1.3879e-02,  8.7284e-02,  3.4534e-01, -1.1044e-01,\n",
      "         -1.8649e-01,  4.7331e-01,  2.2552e-01,  1.1795e-01,  2.5268e-01,\n",
      "         -1.2385e-01],\n",
      "        [-1.8748e-02, -2.8347e-02,  6.3447e-02, -5.5421e-03,  1.0999e-01,\n",
      "          4.7552e-01, -1.2707e-01, -2.9894e-02, -1.5460e-01,  2.7544e-01,\n",
      "         -1.9009e-01,  7.5509e-01,  2.4321e-02,  4.5037e-01,  2.2113e-01,\n",
      "          3.1772e-01],\n",
      "        [-3.8389e-01, -5.1878e-01, -8.6933e-02,  7.9167e-01,  4.5268e-01,\n",
      "          6.8365e-01,  2.1718e-02,  5.8755e-03,  1.7513e-01, -1.7796e-01,\n",
      "         -4.7882e-01,  4.2278e-01, -2.7474e-01,  5.2702e-01, -1.6668e-01,\n",
      "          3.2312e-01],\n",
      "        [ 9.1842e-02, -3.8686e-01, -5.2813e-01,  4.2318e-01, -1.1368e-01,\n",
      "          2.1933e-01,  3.7670e-01, -4.9464e-02,  3.0340e-01, -5.5910e-02,\n",
      "         -3.3110e-01, -1.3420e-01, -1.6728e-01, -2.0761e-01, -1.8800e-01,\n",
      "         -3.9520e-02],\n",
      "        [-5.3964e-02, -5.5853e-01, -5.2079e-01,  5.1039e-01, -3.2960e-01,\n",
      "         -2.3176e-02,  3.3786e-01, -1.3793e-02,  1.0418e-02, -1.4975e-03,\n",
      "          7.7980e-02, -1.3052e-01, -2.2067e-01, -2.3692e-01, -1.6989e-01,\n",
      "          2.2248e-01],\n",
      "        [ 2.7210e-02,  3.9329e-01, -1.5543e-01, -1.3106e-01, -1.3962e-01,\n",
      "          2.6984e-01, -3.4469e-01,  2.5447e-01,  1.2127e-01,  7.5560e-02,\n",
      "         -1.3854e-01,  6.6908e-01,  4.7008e-01,  2.8705e-02,  1.9245e-01,\n",
      "          1.7442e-02],\n",
      "        [-3.2265e-01, -2.7554e-01,  1.4072e-01,  3.0089e-01,  5.1444e-01,\n",
      "          5.3942e-01, -7.4370e-02, -6.6593e-02,  9.6099e-02,  5.5887e-02,\n",
      "         -3.2793e-01,  6.6965e-01, -1.2607e-03,  6.1838e-01,  3.9176e-02,\n",
      "          4.6623e-01],\n",
      "        [-2.4063e-01, -1.3132e-01,  3.2507e-02,  3.5460e-02,  3.6761e-01,\n",
      "          2.1416e-01, -1.6999e-01, -4.6736e-02, -4.1371e-02, -7.1293e-02,\n",
      "         -1.3679e-01,  4.1551e-01, -2.2894e-02,  2.6150e-01,  9.4152e-03,\n",
      "          3.6194e-01],\n",
      "        [ 2.1490e+00,  5.3137e-01,  8.0605e-01, -4.9614e-01, -1.0477e+00,\n",
      "         -3.4098e-02, -4.7057e-02, -2.1770e-01, -7.6958e-01, -2.3398e-01,\n",
      "          1.2645e-01, -1.0463e+00, -4.3882e-01, -1.0695e+00, -1.4526e-01,\n",
      "         -3.8915e-01],\n",
      "        [-8.9649e-02,  2.4623e+00,  1.6768e+00, -5.6479e-01,  9.9071e-01,\n",
      "         -1.2119e+00, -1.3883e+00,  4.0921e-01, -2.0362e-01, -4.0323e-01,\n",
      "          3.8699e-01,  2.9807e-01,  4.1921e-01, -2.0467e-01, -1.9506e-02,\n",
      "          6.3895e-01],\n",
      "        [-1.6142e-01,  7.8108e-01,  2.6251e+00, -1.1793e+00,  5.7189e-01,\n",
      "         -1.0538e+00, -3.7849e-01, -6.2150e-01, -9.1097e-01, -1.9327e-03,\n",
      "          8.8853e-01, -4.8580e-01, -3.2745e-01, -4.5863e-01,  4.1988e-01,\n",
      "          9.1608e-01],\n",
      "        [ 2.3657e-01, -1.7527e+00, -6.1425e-01,  2.3334e+00, -4.2218e-01,\n",
      "          6.8000e-01,  8.3274e-01, -1.8404e-01,  5.4782e-01, -1.4085e-01,\n",
      "         -6.0839e-01,  1.2031e-01, -8.8380e-02, -5.3417e-01, -1.1987e-01,\n",
      "         -1.0003e-01],\n",
      "        [-1.2077e+00,  1.2110e+00,  1.9286e+00, -1.0614e+00,  3.6922e+00,\n",
      "         -1.0015e+00, -1.1517e+00, -4.6315e-01,  1.0945e-01, -5.9444e-01,\n",
      "         -6.6014e-01,  6.8729e-01,  2.0119e-01,  5.0729e-01,  4.4687e-01,\n",
      "          1.9232e+00],\n",
      "        [ 7.7582e-01, -8.0530e-01, -9.2015e-01,  1.5166e+00, -6.0033e-01,\n",
      "          2.6174e+00,  4.4190e-01,  8.2240e-01,  2.4615e-01,  9.8526e-02,\n",
      "         -1.2435e+00,  4.4500e-01, -1.8599e-01,  4.3315e-01, -1.8582e-01,\n",
      "         -1.3170e+00],\n",
      "        [ 7.7382e-01, -1.4376e+00,  1.4115e-01,  6.1198e-01, -1.8060e+00,\n",
      "          1.2805e+00,  3.4944e+00, -2.8571e-01,  1.8160e-01,  1.2022e+00,\n",
      "         -1.6801e-01, -5.4975e-01, -1.1110e+00,  7.5128e-01,  1.3437e+00,\n",
      "         -8.3437e-01],\n",
      "        [ 3.2194e-01,  2.7038e-01, -7.7622e-01,  8.3725e-01, -6.6421e-02,\n",
      "          5.0813e-01, -4.5858e-01,  1.7328e+00,  5.4148e-01, -4.0829e-01,\n",
      "         -4.1581e-01,  2.0673e-01,  1.2230e-01,  3.3800e-01, -5.9477e-01,\n",
      "         -7.0271e-01],\n",
      "        [ 8.3100e-01, -4.3937e-01, -7.4068e-01,  7.4125e-01, -3.9484e-01,\n",
      "          3.6918e-01,  1.9883e+00, -9.2324e-01,  2.5309e+00,  4.5880e-01,\n",
      "         -7.1130e-01, -2.1022e-01, -1.1323e-01, -1.0795e+00, -1.0429e-01,\n",
      "         -6.9902e-01],\n",
      "        [ 9.2579e-02,  4.6861e-01,  3.1695e-01, -1.0890e+00, -2.0993e-01,\n",
      "          6.8479e-02, -1.1521e+00,  1.7371e-01, -6.6056e-01,  1.8523e+00,\n",
      "          2.3208e-01, -3.4482e-01,  3.6392e-01,  8.7777e-01, -7.6161e-03,\n",
      "         -1.0314e+00],\n",
      "        [-5.7531e-01,  8.2483e-01, -3.9455e-01, -2.1925e-01,  1.4701e-01,\n",
      "         -4.9720e-01, -1.1374e+00,  1.1416e+00, -3.1607e-01,  5.9858e-01,\n",
      "          1.9890e+00,  9.2397e-01,  1.2319e+00,  6.0654e-01, -4.1928e-02,\n",
      "         -3.7366e-01],\n",
      "        [-7.6894e-01,  2.1046e+00, -3.7948e-01,  2.7158e-01,  1.3396e+00,\n",
      "          1.2200e+00, -2.9043e+00,  4.3902e-01,  4.3399e-01, -3.0712e-01,\n",
      "         -3.3937e-01,  2.9676e+00,  2.2712e+00,  9.5066e-01, -2.2858e-01,\n",
      "         -1.5208e-01],\n",
      "        [ 1.4907e-01,  1.7327e+00,  7.9266e-01,  2.5515e-02,  1.5010e+00,\n",
      "          6.4692e-01, -1.6592e+00,  3.8568e-01,  3.7550e-01, -9.0289e-01,\n",
      "         -6.0050e-01,  1.2152e+00,  2.7354e+00,  1.3948e+00,  3.5244e-01,\n",
      "          9.8513e-02],\n",
      "        [-6.2549e-01,  5.8508e-01,  7.7226e-01,  4.5734e-01, -6.5226e-02,\n",
      "          1.1206e+00, -7.8283e-01,  4.6225e-01,  1.4560e-01, -4.3941e-01,\n",
      "          1.5652e-01,  2.7920e-01,  8.1102e-01,  2.9540e+00, -6.2025e-01,\n",
      "         -8.8062e-01],\n",
      "        [ 9.6385e-01,  1.5463e+00,  1.6800e+00, -1.8621e+00, -1.2685e+00,\n",
      "         -2.0933e-01,  1.0232e+00, -3.2361e-01, -1.5194e-01,  2.1263e-01,\n",
      "          4.2901e-01, -8.9944e-02,  3.0151e-02, -7.3948e-01,  2.6836e+00,\n",
      "         -4.2159e-01],\n",
      "        [-1.7861e-01, -8.7812e-01,  5.9059e-01,  6.4783e-01,  2.7942e-01,\n",
      "         -6.5186e-01,  2.0054e-01, -2.8705e-01, -9.9837e-01, -2.0794e-01,\n",
      "          4.8125e-03,  2.0790e-01, -4.7118e-01,  5.1956e-01,  2.4313e-01,\n",
      "          2.3110e+00],\n",
      "        [-1.9914e+00, -1.9018e+00,  2.8511e-01,  4.4758e+00,  3.5168e+00,\n",
      "          4.1631e+00,  1.5408e+00,  5.6639e-01,  8.1541e-01, -4.6632e-02,\n",
      "         -3.1789e+00,  4.8368e+00, -1.4356e+00,  4.6460e+00,  1.1061e+00,\n",
      "          4.1209e+00],\n",
      "        [-7.1509e-02, -2.8625e-01,  2.0182e-01,  1.8646e+00,  1.7271e+00,\n",
      "          3.2905e+00, -9.3301e-01,  3.5651e-01,  9.2793e-02,  5.9495e-01,\n",
      "         -2.9148e+00,  3.4219e+00, -3.7289e-02,  3.2861e+00,  3.1743e-01,\n",
      "          2.2223e+00],\n",
      "        [-8.6286e-01, -2.5569e-01, -2.4528e-01,  1.9289e+00,  1.1408e+00,\n",
      "          2.2579e+00, -8.0563e-01,  5.9168e-01,  3.3676e-01, -2.6416e-02,\n",
      "         -1.2360e+00,  2.2836e+00,  2.1660e-01,  2.3822e+00, -2.8469e-01,\n",
      "          1.5008e+00],\n",
      "        [-2.2482e-01, -1.4404e+00,  4.5585e-01,  2.5995e+00,  1.7928e+00,\n",
      "          2.9078e+00,  3.4053e-01,  7.1506e-01,  1.3554e-01,  4.9580e-01,\n",
      "         -1.8843e+00,  2.4285e+00, -5.0152e-01,  2.6646e+00,  1.0713e-01,\n",
      "          2.0206e+00],\n",
      "        [-1.5989e+00, -1.6328e+00,  3.9159e-01,  3.3672e+00,  2.6351e+00,\n",
      "          4.0541e+00, -2.7773e-01,  7.0391e-01, -2.8468e-01,  1.8549e-01,\n",
      "         -3.0324e+00,  4.0487e+00, -1.5218e+00,  4.0251e+00, -2.5007e-01,\n",
      "          3.3491e+00],\n",
      "        [-2.0037e+00, -3.9938e+00, -1.2445e+00,  6.2848e+00,  3.5205e+00,\n",
      "          4.4713e+00, -1.4154e-01,  1.1593e+00, -4.6419e-01, -6.4247e-02,\n",
      "         -3.7694e+00,  4.4075e+00, -2.6009e+00,  4.3393e+00, -6.6866e-01,\n",
      "          5.1989e+00],\n",
      "        [-1.8019e+00, -3.3031e+00, -6.3231e-01,  3.9800e+00,  2.9056e+00,\n",
      "          4.5029e+00,  1.5560e-01,  4.1459e-01,  4.8874e-01,  1.2259e-02,\n",
      "         -3.2388e+00,  4.5842e+00, -1.3548e+00,  4.0603e+00, -2.1658e-02,\n",
      "          4.2809e+00],\n",
      "        [-1.3127e+00, -1.8333e+00, -5.9351e-01,  3.7318e+00,  1.9921e+00,\n",
      "          2.7984e+00,  4.7262e-01,  6.4677e-01,  1.1297e-01,  3.3053e-01,\n",
      "         -1.6701e+00,  2.0111e+00, -1.1230e+00,  3.1833e+00, -2.4633e-01,\n",
      "          1.8089e+00],\n",
      "        [-2.2084e+00, -2.8471e+00, -5.0911e-01,  4.8462e+00,  3.2953e+00,\n",
      "          4.5716e+00,  8.2860e-01,  4.3065e-01,  5.5380e-01, -7.5536e-01,\n",
      "         -3.5093e+00,  3.8656e+00, -2.0452e+00,  4.5967e+00, -1.7609e-01,\n",
      "          4.4480e+00],\n",
      "        [-8.4693e-01, -2.6994e+00, -1.0256e+00,  3.7715e+00,  1.3003e+00,\n",
      "          3.9179e+00,  1.1335e+00,  2.0631e-01,  4.0175e-01,  3.9093e-01,\n",
      "         -2.6535e+00,  3.7561e+00, -1.4421e+00,  2.7741e+00,  5.1162e-01,\n",
      "          3.3332e+00],\n",
      "        [-1.6668e+00, -4.1199e+00, -1.6128e+00,  5.1971e+00,  2.2097e+00,\n",
      "          5.1289e+00,  8.9092e-01,  9.9119e-01,  1.4098e-01,  7.7871e-01,\n",
      "         -2.9524e+00,  3.9029e+00, -1.5912e+00,  4.9029e+00, -2.2904e-01,\n",
      "          4.0793e+00],\n",
      "        [-2.6371e+00, -3.1118e+00, -6.5271e-01,  4.7968e+00,  2.9668e+00,\n",
      "          4.5960e+00, -7.1236e-01,  1.1394e+00, -1.2428e-01,  5.0520e-01,\n",
      "         -2.8478e+00,  4.8785e+00, -1.3780e+00,  5.3340e+00, -1.3382e+00,\n",
      "          3.9032e+00],\n",
      "        [-1.0152e+00, -2.4970e+00, -9.2501e-01,  3.3572e+00,  1.8291e+00,\n",
      "          3.8515e+00,  1.8239e-01,  1.2210e+00, -1.9766e-01,  6.4597e-01,\n",
      "         -2.3966e+00,  3.3855e+00, -1.0407e+00,  3.3884e+00, -4.0293e-01,\n",
      "          2.6089e+00],\n",
      "        [-1.0653e+00, -2.5110e+00,  9.7966e-02,  4.5589e+00,  2.9145e+00,\n",
      "          4.6528e+00,  7.2458e-01,  4.0185e-01,  7.0327e-01,  7.3000e-01,\n",
      "         -3.7003e+00,  2.7077e+00, -1.3660e+00,  3.9702e+00, -5.8216e-02,\n",
      "          3.4498e+00],\n",
      "        [-1.5162e+00, -2.8010e+00, -1.2446e-01,  3.6709e+00,  3.3838e+00,\n",
      "          4.6467e+00,  1.0480e+00, -1.6540e-01,  1.0057e+00, -3.8031e-01,\n",
      "         -2.8007e+00,  4.2291e+00, -1.7855e+00,  4.1391e+00,  2.1739e-01,\n",
      "          4.2670e+00],\n",
      "        [-2.4099e+00, -3.2189e+00, -1.1644e+00,  4.8439e+00,  2.6315e+00,\n",
      "          4.7366e+00, -8.5788e-01,  1.7727e+00,  5.9036e-02,  1.5423e-01,\n",
      "         -2.7642e+00,  4.9318e+00, -6.2811e-01,  4.2860e+00, -1.0516e+00,\n",
      "          4.5860e+00]])\n",
      "tensor([ 4.3525e-01, -1.4054e+00, -8.0994e-01,  5.5485e-01,  1.7352e+00,\n",
      "         6.9432e-01,  1.4424e+00,  2.8560e-01,  1.7640e-01,  1.9161e+00,\n",
      "         1.7506e+00,  2.9709e-01,  2.8382e-02,  5.2422e-01,  2.2176e+00,\n",
      "         1.0391e+00, -1.1117e+00, -9.1322e-02, -7.1224e-01, -5.8758e-01,\n",
      "         2.4726e+00,  1.9357e+00,  2.7964e+00,  1.6205e-01, -2.9199e-01,\n",
      "        -4.3976e-01,  2.9586e-02, -3.5846e-01,  1.0890e+00,  4.9008e-01,\n",
      "        -2.8442e+00,  1.8870e+00,  3.6375e+01,  3.1454e+01,  1.8827e+01,\n",
      "         2.5745e+01,  3.5818e+01,  4.0203e+01,  3.7083e+01,  2.4987e+01,\n",
      "         4.1329e+01,  3.9081e+01,  3.6011e+01,  4.6007e+01,  3.5638e+01,\n",
      "         4.0495e+01,  4.0127e+01,  3.2419e+01])\n",
      "tensor([ 0.4352, -1.4054, -0.8099,  0.5549,  1.7352,  0.6943,  1.4424,  0.2856,\n",
      "         0.1764,  1.9161,  1.7506,  0.2971,  0.0284,  0.5242,  2.2176,  1.0391,\n",
      "        -1.1117, -0.0913, -0.7122, -0.5876,  2.4726,  1.9357,  2.7964,  0.1620,\n",
      "        -0.2920, -0.4398,  0.0296, -0.3585,  1.0890,  0.4901, -2.8442,  1.8870,\n",
      "        19.8396, 13.3193,  8.1142, 12.3032, 17.9698, 22.6114, 18.0079, 12.6565,\n",
      "        20.7708, 15.9140, 21.4314, 18.8996, 15.7553, 18.8453, 19.6138, 20.0166])\n"
     ]
    }
   ],
   "source": [
    "for param in encoder.parameters():\n",
    "    print(param.grad)"
   ]
  },
  {
   "cell_type": "code",
   "execution_count": 12,
   "metadata": {},
   "outputs": [
    {
     "name": "stdout",
     "output_type": "stream",
     "text": [
      "torch.Size([50, 16])\n",
      "torch.Size([1, 16])\n"
     ]
    }
   ],
   "source": [
    "print(output.shape)\n",
    "print(hidden.shape)"
   ]
  },
  {
   "attachments": {},
   "cell_type": "markdown",
   "metadata": {},
   "source": [
    "### Decoder"
   ]
  },
  {
   "cell_type": "code",
   "execution_count": 13,
   "metadata": {},
   "outputs": [
    {
     "data": {
      "text/plain": [
       "torch.Size([128])"
      ]
     },
     "execution_count": 13,
     "metadata": {},
     "output_type": "execute_result"
    }
   ],
   "source": [
    "y[0].shape"
   ]
  },
  {
   "cell_type": "code",
   "execution_count": 14,
   "metadata": {},
   "outputs": [
    {
     "name": "stderr",
     "output_type": "stream",
     "text": [
      "/mnt/d/courses/cs6910_dl/assignment_3/notebooks/../src/model.py:78: UserWarning: Implicit dimension choice for softmax has been deprecated. Change the call to include dim=X as an argument.\n",
      "  output = self.out_act(output)\n"
     ]
    }
   ],
   "source": [
    "import model\n",
    "from model import DecoderRNN\n",
    "\n",
    "decoder = DecoderRNN(cell_type='gru')\n",
    "out, hidden = decoder.forward(y[0], hidden)"
   ]
  },
  {
   "cell_type": "code",
   "execution_count": 15,
   "metadata": {},
   "outputs": [
    {
     "data": {
      "text/plain": [
       "torch.Size([1, 16])"
      ]
     },
     "execution_count": 15,
     "metadata": {},
     "output_type": "execute_result"
    }
   ],
   "source": [
    "hidden.shape"
   ]
  },
  {
   "cell_type": "code",
   "execution_count": 16,
   "metadata": {},
   "outputs": [
    {
     "name": "stdout",
     "output_type": "stream",
     "text": [
      "torch.Size([1, 128])\n",
      "torch.Size([1, 16])\n"
     ]
    }
   ],
   "source": [
    "print(out.shape)\n",
    "print(hidden.shape)"
   ]
  },
  {
   "attachments": {},
   "cell_type": "markdown",
   "metadata": {},
   "source": [
    "## Loss"
   ]
  },
  {
   "cell_type": "code",
   "execution_count": 17,
   "metadata": {},
   "outputs": [],
   "source": [
    "target = torch.zeros(128)\n",
    "target[0] = 1\n",
    "target = torch.tensor([torch.where(target == 1)[0]])\n",
    "y_hat = out\n",
    "criterion = nn.NLLLoss()\n",
    "loss = criterion(y_hat, target)"
   ]
  },
  {
   "cell_type": "code",
   "execution_count": 18,
   "metadata": {},
   "outputs": [
    {
     "name": "stdout",
     "output_type": "stream",
     "text": [
      "tensor([[0.4285, 0.6735, 0.3540,  ..., 0.5020, 0.2634, 1.4263],\n",
      "        [0.8637, 1.2613, 0.1914,  ..., 0.4129, 0.4577, 0.0513],\n",
      "        [0.5592, 0.5802, 0.5884,  ..., 0.0262, 0.3747, 0.9818],\n",
      "        ...,\n",
      "        [0.0000, 0.0000, 0.0000,  ..., 0.0000, 0.0000, 0.0000],\n",
      "        [0.0000, 0.0000, 0.0000,  ..., 0.0000, 0.0000, 0.0000],\n",
      "        [0.0000, 0.0000, 0.0000,  ..., 0.0000, 0.0000, 0.0000]])\n"
     ]
    }
   ],
   "source": [
    "for param in encoder.parameters():\n",
    "    print(param.grad)\n",
    "    break"
   ]
  },
  {
   "attachments": {},
   "cell_type": "markdown",
   "metadata": {},
   "source": [
    "## Test Training"
   ]
  },
  {
   "attachments": {},
   "cell_type": "markdown",
   "metadata": {},
   "source": [
    "Code prior to calling `train`"
   ]
  },
  {
   "cell_type": "code",
   "execution_count": 19,
   "metadata": {},
   "outputs": [],
   "source": [
    "encoder = EncoderRNN(cell_type='lstm')\n",
    "decoder = DecoderRNN(cell_type='lstm')\n",
    "\n",
    "encoder_optimizer = torch.optim.Adam(encoder.parameters(), lr = 100)\n",
    "decoder_optimizer = torch.optim.Adam(decoder.parameters(), lr = 100)\n",
    "criterion = nn.NLLLoss()"
   ]
  },
  {
   "cell_type": "code",
   "execution_count": 20,
   "metadata": {},
   "outputs": [],
   "source": [
    "# def train_onestep(dataset, encoder, decoder, )"
   ]
  },
  {
   "cell_type": "code",
   "execution_count": 21,
   "metadata": {},
   "outputs": [],
   "source": [
    "x, y = next(iter(dataset))"
   ]
  },
  {
   "cell_type": "code",
   "execution_count": 22,
   "metadata": {},
   "outputs": [
    {
     "data": {
      "text/plain": [
       "torch.Size([50, 128])"
      ]
     },
     "execution_count": 22,
     "metadata": {},
     "output_type": "execute_result"
    }
   ],
   "source": [
    "x.shape"
   ]
  },
  {
   "cell_type": "code",
   "execution_count": 23,
   "metadata": {},
   "outputs": [
    {
     "name": "stdout",
     "output_type": "stream",
     "text": [
      "torch.Size([1, 16])\n",
      "torch.Size([1, 16])\n"
     ]
    }
   ],
   "source": [
    "Embed = nn.Embedding(128, 16)\n",
    "embeded = Embed(torch.where(x[0] == 1)[0])\n",
    "embeded\n",
    "model = nn.RNN(16, 16)\n",
    "hidden = torch.zeros(16).view(1, 16)\n",
    "print(embeded.shape)\n",
    "print(hidden.shape)\n",
    "output, hidden = model(embeded)"
   ]
  },
  {
   "cell_type": "code",
   "execution_count": 31,
   "metadata": {},
   "outputs": [],
   "source": [
    "loss = utils.train_one_iter(x, y, encoder, decoder, encoder_optimizer, decoder_optimizer, criterion)"
   ]
  },
  {
   "cell_type": "code",
   "execution_count": 32,
   "metadata": {},
   "outputs": [
    {
     "name": "stderr",
     "output_type": "stream",
     "text": [
      "100%|██████████| 2000/2000 [00:40<00:00, 49.80it/s]\n"
     ]
    }
   ],
   "source": [
    "encoder, decoder, loss_seq = utils.train(dataset, 0.01, 2000)"
   ]
  },
  {
   "cell_type": "code",
   "execution_count": 26,
   "metadata": {},
   "outputs": [
    {
     "data": {
      "text/plain": [
       "[<matplotlib.lines.Line2D at 0x7f835fef3820>]"
      ]
     },
     "execution_count": 26,
     "metadata": {},
     "output_type": "execute_result"
    },
    {
     "data": {
      "image/png": "[encoded data removed]",
      "text/plain": [
       "<Figure size 432x288 with 1 Axes>"
      ]
     },
     "metadata": {
      "needs_background": "light"
     },
     "output_type": "display_data"
    }
   ],
   "source": [
    "plt.plot(loss_seq)"
   ]
  },
  {
   "attachments": {},
   "cell_type": "markdown",
   "metadata": {},
   "source": [
    "## Evaluation"
   ]
  },
  {
   "cell_type": "code",
   "execution_count": 27,
   "metadata": {},
   "outputs": [],
   "source": [
    "x, y = next(iter(dataset))"
   ]
  },
  {
   "cell_type": "code",
   "execution_count": 28,
   "metadata": {},
   "outputs": [],
   "source": [
    "encoder.initialize_hidden()"
   ]
  },
  {
   "cell_type": "code",
   "execution_count": 29,
   "metadata": {},
   "outputs": [],
   "source": [
    "y_pred = utils.predict(x, encoder, decoder)"
   ]
  },
  {
   "cell_type": "code",
   "execution_count": 30,
   "metadata": {},
   "outputs": [
    {
     "data": {
      "text/plain": [
       "'ஙங\\u0bdcவஇவவ\\u0be4இவ\\u0babஇவ\\u0babஇவ\\u0babஇவ\\u0babஇவ\\u0babஇவ\\u0babஇவ\\u0babஇவ\\u0babஇவ\\u0babஇவ\\u0babஇவ\\u0babஇவ\\u0babஇவ\\u0babஇவ\\u0bab'"
      ]
     },
     "execution_count": 30,
     "metadata": {},
     "output_type": "execute_result"
    }
   ],
   "source": [
    "torch.sum(y_pred)\n",
    "dataset.decode_tam_word(y_pred)\n",
    "# dataset.decode_tam_word(y)"
   ]
  }
 ],
 "metadata": {
  "kernelspec": {
   "display_name": "Python 3",
   "language": "python",
   "name": "python3"
  },
  "language_info": {
   "codemirror_mode": {
    "name": "ipython",
    "version": 3
   },
   "file_extension": ".py",
   "mimetype": "text/x-python",
   "name": "python",
   "nbconvert_exporter": "python",
   "pygments_lexer": "ipython3",
   "version": "3.10.6"
  },
  "orig_nbformat": 4
 },
 "nbformat": 4,
 "nbformat_minor": 2
}
